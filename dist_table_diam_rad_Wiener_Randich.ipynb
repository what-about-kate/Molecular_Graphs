{
 "cells": [
  {
   "cell_type": "code",
   "execution_count": 22,
   "metadata": {},
   "outputs": [],
   "source": [
    "from rdkit import Chem\n",
    "from rdkit.Chem import AllChem\n",
    "from rdkit.Chem import Draw \n",
    "from rdkit.Chem import rdmolops\n",
    "from rdkit.Chem.Draw import IPythonConsole\n",
    "import numpy as np"
   ]
  },
  {
   "cell_type": "code",
   "execution_count": 45,
   "metadata": {},
   "outputs": [
    {
     "data": {
      "text/plain": [
       "467"
      ]
     },
     "execution_count": 45,
     "metadata": {},
     "output_type": "execute_result"
    }
   ],
   "source": [
    "vyb = Chem.SDMolSupplier('sets/cox2_3d.sd')\n",
    "\n",
    "ms = [x for x in vyb if x is not None]\n",
    "len(ms)"
   ]
  },
  {
   "cell_type": "code",
   "execution_count": 46,
   "metadata": {},
   "outputs": [],
   "source": [
    "def clean_mark(mark, n) :\n",
    "    \n",
    "    for i in range(n) :\n",
    "        mark[i] = 0"
   ]
  },
  {
   "cell_type": "code",
   "execution_count": 47,
   "metadata": {},
   "outputs": [],
   "source": [
    "def wave(a, ii, n, mark) :\n",
    "    \n",
    "    f = 1\n",
    "    \n",
    "    mark_num = 1\n",
    "\n",
    "    # поджог\n",
    "    mark[ii] = mark_num\n",
    "\n",
    "    # пока не подожжем все вершины\n",
    "    while 1 :\n",
    "        if f == 0 :\n",
    "            break\n",
    "\n",
    "        f = 0\n",
    "\n",
    "        for i in range (n) :\n",
    "            if mark[i] == mark_num :\n",
    "                for j in range (n) :\n",
    "                    if a[i][j] == 1 and mark[j] == 0 :\n",
    "                        mark[j] = mark_num + 1\n",
    "    \n",
    "        for i in range (n) :\n",
    "            if mark[i] == 0 :\n",
    "                f = 1\n",
    "\n",
    "        mark_num = mark_num + 1"
   ]
  },
  {
   "cell_type": "code",
   "execution_count": 48,
   "metadata": {},
   "outputs": [],
   "source": [
    "def init_distance_table_i(d, mark, i, n) :\n",
    "\n",
    "    for j in range(n) :\n",
    "        d[i][j] = mark[j] - 1"
   ]
  },
  {
   "cell_type": "code",
   "execution_count": 49,
   "metadata": {},
   "outputs": [],
   "source": [
    "def init_distance_table(a, d, mark, n) :\n",
    "\n",
    "    for i in range(n) :\n",
    "        # очистить метки\n",
    "        clean_mark(mark, n)\n",
    "\n",
    "        # волна со стартовым атомом i\n",
    "        wave(a, i, n, mark)\n",
    "\n",
    "        # заполнить i-тую строку матрицы расстояний\n",
    "        init_distance_table_i(d, mark, i, n)"
   ]
  },
  {
   "cell_type": "code",
   "execution_count": 50,
   "metadata": {},
   "outputs": [],
   "source": [
    "def init_deg_array (a, deg, n) :\n",
    "    \n",
    "    for i in range(n) :\n",
    "        sum = 0\n",
    "        for j in range(n) :\n",
    "            if a[i][j] == 1 :\n",
    "                sum += 1\n",
    "        deg[i] = sum"
   ]
  },
  {
   "cell_type": "code",
   "execution_count": 51,
   "metadata": {},
   "outputs": [],
   "source": [
    "def calc_Wiener_index(d, n) :\n",
    "    \n",
    "    sum = 0\n",
    "    \n",
    "    for i in range(n) :\n",
    "        for j in range(n) :\n",
    "            sum += d[i][j]\n",
    "            \n",
    "    return sum / 2"
   ]
  },
  {
   "cell_type": "code",
   "execution_count": 52,
   "metadata": {},
   "outputs": [],
   "source": [
    "def calc_Randich_index(d, deg, n) :\n",
    "  \n",
    "    sum = 0\n",
    "\n",
    "    for i in range(n) :\n",
    "        for j in range(n) :\n",
    "            if d[i][j] == 1 :\n",
    "                sum += 1 / np.sqrt(deg[i] * deg[j])\n",
    "                \n",
    "    return (sum / 2)"
   ]
  },
  {
   "cell_type": "code",
   "execution_count": 53,
   "metadata": {},
   "outputs": [],
   "source": [
    "def find_diam_and_rad (d, n) :\n",
    "\n",
    "    loc_max = np.zeros(n, dtype = int, order = 'C')\n",
    "\n",
    "    for i in range(n) :\n",
    "        max = 0\n",
    "\n",
    "        for j in range(n) :\n",
    "            if d[i][j] > max:\n",
    "                max = d[i][j]\n",
    "\n",
    "        loc_max[i] = max\n",
    "\n",
    "    rad = loc_max[0]\n",
    "    diam = loc_max[0]\n",
    "\n",
    "    for i in range(n) :\n",
    "        if loc_max[i] < rad :\n",
    "            rad = loc_max[i]\n",
    "\n",
    "        if loc_max[i] > diam :\n",
    "            diam = loc_max[i]\n",
    "            \n",
    "    return diam, rad"
   ]
  },
  {
   "cell_type": "code",
   "execution_count": 54,
   "metadata": {},
   "outputs": [],
   "source": [
    "diam = np.zeros(len(ms), dtype = int, order = 'C')\n",
    "rad = np.zeros(len(ms), dtype = int, order = 'C')\n",
    "Wiener_indices = np.zeros(len(ms), dtype = int, order = 'C')\n",
    "Randich_indices = np.zeros(len(ms), dtype = float, order = 'C')\n",
    "\n",
    "for i in range(len(ms)) :\n",
    "    n = ms[i].GetNumAtoms()\n",
    "    a = Chem.rdmolops.GetAdjacencyMatrix(ms[i], useBO=False, emptyVal=0, force=False, prefix='')\n",
    "     \n",
    "    d = np.zeros((n, n), dtype = int, order = 'C')\n",
    "    \n",
    "    mark = np.zeros(n, dtype = int, order = 'C')\n",
    "    deg = np.zeros(n, dtype=int, order='C')\n",
    "    \n",
    "    init_distance_table(a, d, mark, n)\n",
    "    init_deg_array (a, deg, n)\n",
    "    \n",
    "    diam[i], rad[i] = find_diam_and_rad(d, n)\n",
    "    Wiener_indices[i] = calc_Wiener_index(d, n)\n",
    "    Randich_indices[i] = calc_Randich_index(d, deg, n)"
   ]
  },
  {
   "cell_type": "code",
   "execution_count": 55,
   "metadata": {},
   "outputs": [],
   "source": [
    "np.savetxt('cox2-diam_rad_Wiener_Randich.csv', [p for p in zip(diam, rad, Wiener_indices, Randich_indices)], delimiter=',', fmt='%.3f')"
   ]
  },
  {
   "cell_type": "code",
   "execution_count": null,
   "metadata": {},
   "outputs": [],
   "source": []
  }
 ],
 "metadata": {
  "kernelspec": {
   "display_name": "Python 3",
   "language": "python",
   "name": "python3"
  },
  "language_info": {
   "codemirror_mode": {
    "name": "ipython",
    "version": 3
   },
   "file_extension": ".py",
   "mimetype": "text/x-python",
   "name": "python",
   "nbconvert_exporter": "python",
   "pygments_lexer": "ipython3",
   "version": "3.6.12"
  }
 },
 "nbformat": 4,
 "nbformat_minor": 4
}
