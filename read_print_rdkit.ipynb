{
 "cells": [
  {
   "cell_type": "code",
   "execution_count": 1,
   "metadata": {},
   "outputs": [],
   "source": [
    "from rdkit import Chem\n",
    "from rdkit.Chem import AllChem\n",
    "from rdkit.Chem import Draw\n",
    "from rdkit.Chem.Draw import IPythonConsole"
   ]
  },
  {
   "cell_type": "code",
   "execution_count": 2,
   "metadata": {},
   "outputs": [],
   "source": [
    "vyb = Chem.SDMolSupplier('sets/bzr_3d.sd')"
   ]
  },
  {
   "cell_type": "code",
   "execution_count": 3,
   "metadata": {},
   "outputs": [
    {
     "data": {
      "text/plain": [
       "405"
      ]
     },
     "execution_count": 3,
     "metadata": {},
     "output_type": "execute_result"
    }
   ],
   "source": [
    "ms = [x for x in vyb if x is not None]\n",
    "len(ms)"
   ]
  },
  {
   "cell_type": "code",
   "execution_count": 125,
   "metadata": {},
   "outputs": [],
   "source": [
    "for m in ms: \n",
    "    tmp = AllChem.Compute2DCoords(m)\n",
    "    \n",
    "for i in range (len(ms)):\n",
    "    s = 'images/sesq80/sesq80_' + str(i+1) + '.png'\n",
    "    Draw.MolToFile(ms[i], s)  "
   ]
  },
  {
   "cell_type": "code",
   "execution_count": 13,
   "metadata": {},
   "outputs": [],
   "source": [
    "for i in range (34):\n",
    "    amount = 12 # сколько на каждой странице\n",
    "    num = (i + 1) * amount\n",
    "    img = Draw.MolsToGridImage(ms[(num-amount):(num):1], molsPerRow=3, subImgSize=(100,300), legends=['bzr_' + str(num-amount+1+x) for x in range(amount)])\n",
    "    s = 'images/bzr_3d/A4/bzr_3d_' + str(num-amount+1) + '-' + str(num) + '.png'\n",
    "    img.save(s)\n",
    "    \n",
    "#405/9 = 45\n",
    "#405/15 = 27\n",
    "#`408/12 = 34\n",
    "#468/9 = 52\n",
    "#396/9 = 44\n",
    "#207/9 = 23\n",
    "#80/8 = 10 A4"
   ]
  },
  {
   "cell_type": "code",
   "execution_count": 42,
   "metadata": {},
   "outputs": [
    {
     "data": {
      "image/png": "[encoded data removed]",
      "text/plain": [
       "<rdkit.Chem.rdchem.Mol at 0x298b24596c0>"
      ]
     },
     "execution_count": 42,
     "metadata": {},
     "output_type": "execute_result"
    }
   ],
   "source": [
    "template = Chem.MolFromMolFile('mol/template_glik110.mol')\n",
    "template = Chem.MolFromSmiles('c1ccccc1')\n",
    "template"
   ]
  },
  {
   "cell_type": "code",
   "execution_count": 43,
   "metadata": {},
   "outputs": [
    {
     "data": {
      "text/plain": [
       "398"
      ]
     },
     "execution_count": 43,
     "metadata": {},
     "output_type": "execute_result"
    }
   ],
   "source": [
    "subms = [x for x in ms if x.HasSubstructMatch(template)]\n",
    "len(subms)"
   ]
  },
  {
   "cell_type": "code",
   "execution_count": 50,
   "metadata": {},
   "outputs": [],
   "source": [
    "#AllChem.Compute2DCoords(p)"
   ]
  },
  {
   "cell_type": "code",
   "execution_count": 51,
   "metadata": {},
   "outputs": [],
   "source": [
    "#for m in subms: AllChem.GenerateDepictionMatching2DStructure(m,p)\n",
    "#img=Draw.MolsToGridImage(subms,molsPerRow=4,subImgSize=(200,200),legends=[x.GetProp(\"_Name\") for x in subms])    \n",
    "#img.save('images/cdk2_molgrid.aligned.o.png')  "
   ]
  }
 ],
 "metadata": {
  "kernelspec": {
   "display_name": "Python 3",
   "language": "python",
   "name": "python3"
  },
  "language_info": {
   "codemirror_mode": {
    "name": "ipython",
    "version": 3
   },
   "file_extension": ".py",
   "mimetype": "text/x-python",
   "name": "python",
   "nbconvert_exporter": "python",
   "pygments_lexer": "ipython3",
   "version": "3.6.12"
  }
 },
 "nbformat": 4,
 "nbformat_minor": 4
}
